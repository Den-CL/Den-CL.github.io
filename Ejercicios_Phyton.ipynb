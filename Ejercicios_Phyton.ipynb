{
  "nbformat": 4,
  "nbformat_minor": 0,
  "metadata": {
    "colab": {
      "provenance": [],
      "authorship_tag": "ABX9TyN51seb90a/EtH3kJ7C7lqk",
      "include_colab_link": true
    },
    "kernelspec": {
      "name": "python3",
      "display_name": "Python 3"
    },
    "language_info": {
      "name": "python"
    }
  },
  "cells": [
    {
      "cell_type": "markdown",
      "metadata": {
        "id": "view-in-github",
        "colab_type": "text"
      },
      "source": [
        "<a href=\"https://colab.research.google.com/github/Den-CL/Den-CL.github.io/blob/main/Ejercicios_Phyton.ipynb\" target=\"_parent\"><img src=\"https://colab.research.google.com/assets/colab-badge.svg\" alt=\"Open In Colab\"/></a>"
      ]
    },
    {
      "cell_type": "code",
      "execution_count": null,
      "metadata": {
        "id": "YmmnGsTE3B7H"
      },
      "outputs": [],
      "source": []
    },
    {
      "cell_type": "markdown",
      "source": [
        "Ejercicios-Generalidades"
      ],
      "metadata": {
        "id": "iWjIUQTt3DP1"
      }
    },
    {
      "cell_type": "code",
      "source": [
        "#@title 1. Recibir un dato y elevarlo al cuadrado\n",
        "\n",
        "x=float(input(\"Hola, ingresa un número: \"))\n",
        "print(f\"El cuadrado de: {x} es {x**2: 0.1f}\")\n"
      ],
      "metadata": {
        "cellView": "form",
        "id": "yYCZy6Qt3G8z"
      },
      "execution_count": null,
      "outputs": []
    },
    {
      "cell_type": "code",
      "source": [
        "#@title 2. Recibe nombre y edad y saluda indicando año de nacimiento\n",
        "\n",
        "n=input(\"Ingresa tu nombre: \")\n",
        "e=int(input(\"Ingresa tu edad \"))\n",
        "print(f\"Hola {n}, naciste en {2024-e}\")\n"
      ],
      "metadata": {
        "cellView": "form",
        "id": "p9nwEtNX3cDC"
      },
      "execution_count": null,
      "outputs": []
    },
    {
      "cell_type": "code",
      "source": [
        "#@title 3. Recibir nombre de un producto y precio sin iva. El programa devuelve el nombre con el precio con iva.\n",
        "\n",
        "a=input(\"Ingrese el nombre del producto \")\n",
        "b=float(input(\"Ingrese el precio del producto: \"))\n",
        "c=(b*0.16)+b\n",
        "print(f\"EL precio final de {b} es: {c} pesos. \")"
      ],
      "metadata": {
        "cellView": "form",
        "id": "oxrbW0StIFIb"
      },
      "execution_count": null,
      "outputs": []
    },
    {
      "cell_type": "code",
      "source": [
        "#@title 4. Recibir corriente y resistencia y devolver voltaje si se sabe que V=IR\n",
        "cor=float(input(\"Ingrese el valor de la corriente\" ))\n",
        "r=float(input(\"Ingrese el valor de la resistencia\" ))\n",
        "v=cor*r\n",
        "print(f\"El voltaje es {v} volts.\")"
      ],
      "metadata": {
        "id": "dmJgAcNWInz2",
        "cellView": "form"
      },
      "execution_count": null,
      "outputs": []
    },
    {
      "cell_type": "code",
      "source": [
        "#@title 5. Recibe precio, cantidad, costo fijo y costo variable por pieza y el programa devuelve el beneficio.\n",
        "\n",
        "fijo=float(input(\"Ingrese el costo fijo por producción:\"  ))\n",
        "vari=float(input(\"Ingrese el costo variable por pieza:\"  ))\n",
        "cp=int(input(\"Ingrese la cantidad de piezas vendidas:\"  ))\n",
        "pr=float(input(\"Ingrese el precio de venta por pieza:\" ))\n",
        "x1=vari*cp #costo variable*pieza vendida\n",
        "x2=x1+fijo #costo variable+ fijo\n",
        "ct=x1+x2 #costo total de las piezas\n",
        "g=cp*pr #Ganancia obtenida de la venta\n",
        "b=g-ct #Beneficio\n",
        "print(f\"El beneficio final de la venta es: {b} pesos. \")"
      ],
      "metadata": {
        "id": "mHuZBKiXJpvU",
        "cellView": "form"
      },
      "execution_count": null,
      "outputs": []
    },
    {
      "cell_type": "code",
      "source": [
        "#@title 6. Recibir dos números del usuario y con ellos realizar: suma, resta, div, mult. pot, raíz y módulo.\n",
        "n1=float(input(\"Ingrese un número: \"))\n",
        "n2=float(input(\"Ingrese otro número: \"))\n",
        "print(f\"La suma de {n1} + {n2} es igual a = {n1+n2: .2f}\")\n",
        "print(f\"La resta de {n1} - {n2} es igual a = {n1-n2: .2f}\")\n",
        "print(f\"La división de {n1} / {n2} es igual a = {n1/n2: .2f}\")\n",
        "print(f\"La multiplicación de {n1} * {n2} es igual a = {n1*n2: .2f}\")\n",
        "print(f\"La potencia de {n1} a la {n2} es igual a = {n1**n2: .2f}\")\n",
        "print(f\"La raíz cuadrada de  {n1}  es igual a = {n1**0.5: .2f}\")\n",
        "print(f\"La raíz cuadrada de  {n2}  es igual a = {n2**0.5: .2f}\")\n",
        "print(f\"El módulo de la división entre  {n1} y {n2} es igual a = {n1%n2 : .2f}\")"
      ],
      "metadata": {
        "id": "j1o7MZwxL95p",
        "cellView": "form"
      },
      "execution_count": null,
      "outputs": []
    },
    {
      "cell_type": "code",
      "source": [
        "#@title 7. Recibe el número de horas extras trabajadas por una persona y devuelve el salario semanal si gana 63 pesos por hora y 80 por hora extra.\n",
        "\n",
        "h=int(input(\"Ingresa las horas extra trabajadas esta semana: \"))\n",
        "#Por ley, 48 horas de trabajo a la semana, so\n",
        "ht=48*63\n",
        "he=h*80\n",
        "print(f\"Tu salario semanal es {ht+he} pesos. \")"
      ],
      "metadata": {
        "cellView": "form",
        "id": "b7Tk8otaQNfG"
      },
      "execution_count": null,
      "outputs": []
    },
    {
      "cell_type": "code",
      "source": [
        "#@title 8. Una empresa banquetera sabe que debe hacer de salsa el 25% de lo que haría de agua de jamaica. Si de agua elabora 1.5 litro por persona. De carne elabora 350 gr por persona. Recibir el nombre del evento, fecha y número de asistentes  y calcular la cantidad de agua, carne  y salsa a fabricar.\n",
        "\n",
        "\n",
        "n=input(\"Ingrese el nombre del evento: \")\n",
        "f=input(\"Ingrese fecha del evento (dd/mm/aa):\")\n",
        "x=int(input(\"Ingrese el número de asistentes al evento:\"))\n",
        "\n",
        "w=(x*1.5)\n",
        "c=(x*0.350)\n",
        "sls=(w+(w*.25))\n",
        "print(f\"Deben prepararse {w} lts de agua, {c} kilos de carne y {sls} litros de salsa para el evento {n} con fecha: {f} \")"
      ],
      "metadata": {
        "id": "VTKCE6_RTIQC",
        "cellView": "form"
      },
      "execution_count": null,
      "outputs": []
    },
    {
      "cell_type": "code",
      "source": [
        "#@title 9. Recibe el número de calificaciones correctas e incorrectas de una prueba, el programa devuelve la calificación final.\n",
        "\n",
        "x=int(input(\"Ingrese el número de incisos correctos: \"))\n",
        "y=int(input(\"Ingrese el número de incisos incorrectos:\"))\n",
        "z=((x)/(x+y))*10\n",
        "print(f\"La calificación final es: {z}\")"
      ],
      "metadata": {
        "id": "HwDZ8krVxuqQ",
        "cellView": "form"
      },
      "execution_count": null,
      "outputs": []
    },
    {
      "cell_type": "code",
      "source": [
        "#@title 10. Recibir números del usuario y utilizar todos los operadores relacionales para imprimir los resultados.\n",
        "\n",
        "x=float(input(\"Ingrese un número: \"))\n",
        "y=float(input(\"Ingrese otro número: \"))\n",
        "\n",
        "print(f\"El número {x} es mayor que el número {y}?: {x>y}\")\n",
        "print(f\"El número {x} es mayor o igual que el número {y}?: {x>=y}\")\n",
        "print(f\"El número {x} es menor que el número {y}?: {x<y}\")\n",
        "print(f\"El número {x} es menor o igual que el número {y}?: {x<=y}\")\n",
        "print(f\"El número {x} es igual que el número {y}?: {x==y}\")\n",
        "print(f\"El número {x} es diferente que el número {y}?: {x!=y}\")\n",
        "\n",
        "\n",
        "\n",
        "\n",
        "\n",
        "\n",
        "\n",
        "\n",
        "\n"
      ],
      "metadata": {
        "id": "ZJ9KkVuYyy7D",
        "cellView": "form"
      },
      "execution_count": null,
      "outputs": []
    },
    {
      "cell_type": "code",
      "source": [
        "#@title 11. Recibe capital inicial, tasa de interés y periodos y devuelve el capital final para una tasa de interés simple y compuesto.\n",
        "\n",
        "#formula Interés compuesto: Cf=Ci (1+x)**t; Cf= capital final, Ci= capital inicial, x=tasa de interes, t= periodo\n",
        "#formula interés simple: xf=ci*x*t; el beneficio final es el ci+xf\n",
        "ci= float(input(\"Ingrese su capital inicial: \"))\n",
        "x=float(input(\"Ingrese su tasa de interés en decimal: \"))\n",
        "t=int(input(\"Ingrese el número de periodos: \"))\n",
        "#interes compuesto:\n",
        "c=(ci*(1+x)**t)\n",
        "#interes simple:\n",
        "s=ci*(1+x*t)\n",
        "\n",
        "print(f\"El capital final con interes simple es: {s: .2f}.\")\n",
        "print(f\"El capital final con interes compuesto es: {c: .2f}.\")\n",
        "\n"
      ],
      "metadata": {
        "id": "Fra67IOvqMv1"
      },
      "execution_count": null,
      "outputs": []
    },
    {
      "cell_type": "code",
      "source": [
        "#@title 12. Solicitar al usuario las coordenadas de dos puntos y devolver la pendiente y ecuación de la recta que pasa por los mismos.\n",
        "#formula y=mx+b\n",
        "\n",
        "print(\"Hola, ingrese las coordenadas del primer punto: \")\n",
        "x1= float(input(\"Ingrese la coordenada x1: \"))\n",
        "y1= float (input(\"Ingrese la coordenada y1: \"))\n",
        "print(\"Hola, ingrese las coordenadas del segundo  punto: \")\n",
        "x2= float(input(\"Ingrese la coordenada x2: \"))\n",
        "y2= float (input(\"Ingrese la coordenada y2: \"))\n",
        "m= (y2-y1)/(x2-x1)\n",
        "#ecuacion de la recta\n",
        "b=y1-(m*x1)\n",
        "print(f\"La pendiente de la recta es {m: .1f} y la ecuación de la recta es: y ={m: .1f}(x)+{b: .1f} \")"
      ],
      "metadata": {
        "colab": {
          "base_uri": "https://localhost:8080/"
        },
        "cellView": "form",
        "id": "hRwSeuZ9wiZ6",
        "outputId": "3aa84f9c-097f-4d3e-e495-55e7cfb55cd4"
      },
      "execution_count": 16,
      "outputs": [
        {
          "output_type": "stream",
          "name": "stdout",
          "text": [
            "Hola, ingrese las coordenadas del primer punto: \n",
            "Ingrese la coordenada x1: 5\n",
            "Ingrese la coordenada y1: 2\n",
            "Hola, ingrese las coordenadas del segundo  punto: \n",
            "Ingrese la coordenada x2: 3\n",
            "Ingrese la coordenada y2: 6\n",
            "La pendiente de la recta es -2.0 y la ecuación de la recta es: y =-2.0(x)+ 12.0 \n"
          ]
        }
      ]
    },
    {
      "cell_type": "code",
      "source": [],
      "metadata": {
        "id": "H8PsK6jH1IHD"
      },
      "execution_count": null,
      "outputs": []
    },
    {
      "cell_type": "markdown",
      "source": [
        "# **Ejercicios if**\n"
      ],
      "metadata": {
        "id": "8j2hHw-m8Kld"
      }
    },
    {
      "cell_type": "code",
      "source": [
        "#@title 1. Recibir dos números e indicar cual de ellos es mayor.\n",
        "\n",
        "x1=float(input(\"Ingresa un número: \"))\n",
        "x2= float( input(\"Ingresa otro número: \"))\n",
        "\n",
        "if x1>x2:\n",
        "  print(f\"{x1} es mayor que {x2}\")\n",
        "else:\n",
        "  print(f\"{x2} es mayor que {x1}\")\n",
        ""
      ],
      "metadata": {
        "cellView": "form",
        "id": "2kaym3vSCE4U"
      },
      "execution_count": null,
      "outputs": []
    },
    {
      "cell_type": "code",
      "source": [
        "#@title 2. Elaborar un programa que calcule áreas y perímetros de cuadrados preguntando al usuario si quiere área o perímetro.\n",
        "x=float(input(\"Ingrese la longitud en cm de el lado del cuadrado: \"))\n",
        "resp= input(\"¿Desea obtener área o perímetro?: \")\n",
        "\n",
        "if resp== \"área\" or \"area\":\n",
        "  print(f\"El área del cuadrado en cm cuadrados es:  {x*x} \")\n",
        "elif resp== \"perímetro\" or \"perimetro\":\n",
        "  print(f\"El perímetro del cuadrado en cm es: {x*4}:\")\n",
        "else:\n",
        "  print(\"Error, vuelva a intentarlo.\")"
      ],
      "metadata": {
        "colab": {
          "base_uri": "https://localhost:8080/"
        },
        "id": "lROLlMraC0Qk",
        "outputId": "a24050f3-0253-4b5b-ee8c-ba6ced733d2b"
      },
      "execution_count": 25,
      "outputs": [
        {
          "output_type": "stream",
          "name": "stdout",
          "text": [
            "Ingrese la longitud en cm de el lado del cuadrado: 3\n",
            "¿Desea obtener área o perímetro?: perimetro\n",
            "El área del cuadrado en cm cuadrados es:  9.0 \n"
          ]
        }
      ]
    },
    {
      "cell_type": "code",
      "source": [],
      "metadata": {
        "id": "RK1R5RpCEjWs"
      },
      "execution_count": null,
      "outputs": []
    }
  ]
}